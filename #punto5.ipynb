#se crea 3 espacios para variables tipo float como se muestra en la primera parte del código 
que el mensaje se muestre correctamente
numero1 = float(input("ingrese un número"))
numero2 = float(input("ingrese un número"))
numero3 = float(input("ingrese un número"))
suma = numero1 + numero2 #creamos la variable suma que se usara para determinar si el número 3 es mayor a esta usando la operación if
if suma > numero3:
    print(str(numero3) + " es menor que " + str(suma)) #creando un enunciado usando print y agregando str() para
elif suma == numero3:
    print(str(numero3) + " es igual que " + str(suma))
else:
    print(str(numero3) + " es mayor que " + str(suma))
