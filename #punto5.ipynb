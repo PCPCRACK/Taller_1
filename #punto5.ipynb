numero1 = float(input("ingrese un número"))
numero2 = float(input("ingrese un número"))
numero3 = float(input("ingrese un número"))
suma = numero1 + numero2
if suma > numero3:
    print(str(numero3) + " es menor que " + str(suma))
elif suma == numero3:
    print(str(numero3) + " es igual que " + str(suma))
else:
    print(str(numero3) + " es mayor que " + str(suma))