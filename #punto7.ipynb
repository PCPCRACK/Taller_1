#Primero se crean las variables que el usuario ingresa
numero1 = float(input("ingrese un número"))
numero2 = float(input("ingrese un número"))
numero3 = float(input("ingrese un número"))
numero4 = float(input("ingrese un número"))
numero5 = float(input("ingrese un número"))
# se crean las operaciones de cada calculo
promedio = (numero1 + numero2 + numero3 + numero4 + numero5)/5 #para el promedio se hace de manera directa mientras que la mediana usa un modelo importado con import, se usa el sorted()
print("el promedio de los valores ingresados es " + str(promedio))
numerosOrdenadosAscendente = sorted([numero1, numero2, numero3, numero4, numero5])
import statistics
print("La mediana es " + str(statistics.median(numerosOrdenadosAscendente)))#para ordenar los numeros de manera ascendente y descendente, y luego se usa max y min para los valores mayor y menor que se usaran para la potencia
y luego para la raíz cúbica. 
print("Números ordenados ascendentemente " + str(numerosOrdenadosAscendente))
n= sorted([numero1, numero2, numero3, numero4,numero5], reverse=True)
print("Números ordenados descendentemente " + str(n))
multiplicativo1 = numero1 * numero2 * numero3 * numero4 * numero5
raiz = (multiplicativo1)**(1/2)
numeroMayor = max (numerosOrdenadosAscendente)
numeroMenor = min (numerosOrdenadosAscendente)
p = numeroMayor**(numeroMenor)
print("La potencia del mayor número elevado al menor número " + str(p))
RaizCubica = numeroMenor**(1/3)
print("La raíz cúbica del menor número es " + str(RaizCubica))
