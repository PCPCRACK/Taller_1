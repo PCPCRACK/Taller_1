
numero= int(input("ingrese un número")) #Primero creamos un input para que el usuario registre un numero
if numero%2 == 0: #una variable que sera utilizada en el if para determinar si el numero es par
     print(str(numero) + " es número par")
else:
     print(str(numero) + " es número impar")
