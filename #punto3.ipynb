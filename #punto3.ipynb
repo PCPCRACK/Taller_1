
numero= int(input("ingrese un número"))
if numero%2 == 0:
     print(str(numero) + " es número par")
else:
     print(str(numero) + " es número impar")