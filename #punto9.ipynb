x= input("Ingrese el nombre de un país de America en minúsculas y con tildes para ver su capital")
if x == "canadá":
    print("otawwa") 
if x == "estados unidos":
    print("washington dc.") 
if x == "méxico":
    print("distrito federal de méxico") 
if x == "belice":
    print("belmopán") 
if x == "costa rica":
    print("san josé") 
if x == "el salvador":
    print("san salvador") 
if x == "guatemala":
    print("ciudad de guatemala") 
if x == "honduras":
    print("tegucigalpa") 
if x == "nicaragua":
    print("managua") 
if x == "panamá":
    print("panamá") 
if x == "argentina":
    print("buenos aires") 
if x == "bolivia":
    print("sucre") 
if x == "brasil":
    print("brasilia") 
if x == "chile":
    print("santiago de chile") 
if x == "colombia":
    print("bogotá") 
if x == "ecuador":
    print("quito") 
if x == "paraguay":
    print("asunción") 
if x == "perú":
    print("lima") 
if x == "surinam":
    print("parabarimo") 
if x == "trinidad y tobago":
    print("puerto españa") 
if x == "uruguay":
    print("montevideo") 
if x == "venezuela":
    print("caracas") 
if x == "antigua y barbuda":
    print("saint john") 
if x == "bahamas":
    print("nasáu") 
if x == "barbados":
    print("bridgetown") 
if x == "cuba":
    print("la habana") 
if x == "dominica":
    print("roseau") 
if x == "granada":
    print("saint george") 
if x == "guyana":
    print("georgetown") 
if x == "haití":
    print("puerto principe") 
if x == "jamaica":
    print("kingston") 
if x == "republica dominicana":
    print("santo domingo") 
if x == "san cristóbal y nieves":
    print("basseterre") 
if x == "san vicente y las granadinas":
    print("kingstown") 
if x == "santa lucía":
    print("castries") 
else:
    print("país no identificado")
